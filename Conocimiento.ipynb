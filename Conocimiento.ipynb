{
  "cells": [
    {
      "cell_type": "markdown",
      "id": "6d716c26-7a62-476e-a362-e297f147248d",
      "metadata": {
        "id": "6d716c26-7a62-476e-a362-e297f147248d"
      },
      "source": [
        "<div align=\"right\"><i>Matías Torres Esteban<br>Abril, 2025</i></div>\n",
        "\n",
        "# Un Sistema para el Ingeniero de Conocimiento\n",
        "\n",
        "La idea de esta notebook es bosquejar un sistema que ayude a investigadores y desarrolladores a organizar su conocimiento personal y el que se encuentra en textos científicos. Sería lindo organizar y almacenar todo este conocimiento en una computadora y construir luego herramientas informáticas que lo utilicen. Este tipo de sistemas se los llama *Bases de Conocimiento Personales* y algunos ejemplos famosos son [Obsidian](https://obsidian.md/), [Anki](https://apps.ankiweb.net/) y [CmapTools](https://cmap.ihmc.us/).\n",
        "\n",
        "Las siguientes preguntas son difíciles de responder y son temas de investigación actuales en las Ciencias de la Computación:\n",
        "\n",
        "* ¿Cual sería una manera adecuada de representar nuestro conocimiento, pero que a la vez sea útil para diseñar y programar agentes inteligentes con los que podamos colaborar y nos ayuden a resolver problemas?\n",
        "\n",
        "* ¿Cómo podemos enseñarle a la Inteligencia Artificial a interpretar nuestros textos científicos? ¿Es posible crear un sistema que lo haga de manera automática, o sería mejor plantear un proceso cooperativo entre el hombre y la máquina?\n",
        "\n",
        "* ¿Cómo podemos mejorar artefactos de la Inteligencia Artificial actuales, tales como los modelos de lenguaje, con información estructurada? ¿Podemos resolver sus deficiencias, tales como su falta de conocimiento experto y alucinaciones, con grafos de conocimiento? ¿Qué aplicaciones podríamos desarrollar si combinamos ambas tecnologías?\n",
        "\n",
        "### ¿Qué es el conocimiento?\n",
        "\n",
        "Es muy importante definir claramente qué es el **conocimiento**. Esto nos permitirá representarlo en una computadora y diseñar a nuestros agentes científicos en base a nuestra definición. Una descripción muy sencilla del término es la siguiente:\n",
        "\n",
        "* Nosotros, las personas, observamos en el mundo objetos y eventos. A través del tiempo percibimos patrones o regularidades en objetos, eventos y registros de objetos y eventos. A estos patrones les damos un nombre o símbolo para identificarlos, y es en ese momento en el que hemos creado un **concepto**, un átomo en nuestra estructura mental que nos permitirá pensar y comunicarnos.\n",
        "\n",
        "* Los conceptos no están disconexos en nuestra estructura mental, si no que los relacionamos entre sí mediante palabras o frases significativas, llamadas **palabras de enlace**. Los conceptos y sus relaciones forman **proposiciones**, que son unidades de pensamiento que nos permiten realizar, por ejemplo, deducciones lógicas.\n",
        "\n",
        "Esta descripción del mundo fue la que utilizó [Joseph D. Novak](https://www.ihmc.us/joseph-novak/), un educador estadounidense, para crear la herramienta de los **mapas conceptuales**. Esta herramienta tuvo mucho éxito en el ámbito de la educación para evaluar el conocimiento de los estudiantes sobre algún dominio. La imágen de abajo muestra un mapa conceptual de las ideas de esta notebook:\n",
        "\n",
        "![MapaConceptual](https://github.com/matizzat/Knowledge/blob/main/Imagenes/MapaConceptual.svg?raw=1)\n",
        "\n",
        "### ¿Cómo representamos el conocimiento?\n",
        "\n",
        "La lógica proposicional y de primer orden, las redes semánticas, los grafos de conocimiento y los mapas conceptuales son maneras distintas de representar conocimiento. Lo interesante de los mapas conceptuales es que surgieron en un ámbito totalmente distinto al de la Inteligencia Artificial y las Matemáticas. Un mapa conceptual es un diagrama donde los nodos son conceptos y las aristas, etiquetadas mediante frases significativas, son relaciones entre conceptos. La idea es que los conceptos y proposiciones de un mapa conceptual respondan una **pregunta de enfoque** o de **contexto**. Para el mapa conceptual de arriba la pregunta de enfoque es:\n",
        "\n",
        "* ¿Cual es el sistema que queremos simular en esta notebook?\n",
        "\n",
        "Los mapas conceptuales tienen una historia muy interesante pero la idea de esta notebook no es adentrarnos en su teoría. Sin embargo, creo que son una buena inspiración para diseñar una representación de conocimiento que sea amena al humano y la máquina. Esto por dos motivos:\n",
        "\n",
        "1. Los mapas conceptuales son considerados en la comunidad educativa como una manera efectiva de representar el conocimiento de una persona. En ellos quedan explícitos los conceptos y proposiciones de nuestra mente. Nos ayudan a identificar lagunas conceptuales, proposiciones falsas y conexiones entre ideas de las que antes no eramos concientes.\n",
        "\n",
        "2. Los mapas conceptuales se parecen mucho a los grafos de conocimiento que vemos en la materia y a otros formalismos de la IA como redes semánticas y grafos conceptuales. Que muchos científicos de diferentes disciplinas, y trabajando de manera independiante, hayan derivado formas similares de representar conocimiento, nos da indicios de que estamos ante un modelo de conocimiento válido.\n",
        "\n",
        "Abajo muestro el modelo algebraico de base de datos que diseñé en base a los mapas conceptuales y grafos de conocimiento.\n",
        "\n",
        "![ModeloAlgebraico](https://github.com/matizzat/Knowledge/blob/main/Imagenes/ModeloAlgebraico.svg?raw=1)\n",
        "\n",
        "Este modelo es simple y puede extenderse de muchas maneras, pero nos seriviría como base para construir nuestro sistema.\n",
        "\n",
        "# Gemini como Intérprete de Texto\n",
        "\n",
        "Vamos a jugar con el modelo de lenguaje Gemini para crear grafos de conocimiento de manera automática a partir de texto. Nuestros textos los almacenamos en la carpeta ```Conocimiento```. Utilizaremos un proceso de tres pasos para completar la tarea:\n",
        "\n",
        "1. Identificar una pregunta de enfoque la cual el texto responde o analiza. Este sería el **contexto** de las ternas que vamos a generar.\n",
        "2. Listar los conceptos más importantes mencionados en el texto que se relacionan con la pregunta de enfoque.\n",
        "3. Extraer las ternas de conocimiento a partir de la pregunta de enfoque, la lista de conceptos y el texto.\n",
        "\n",
        "Estos pasos son arbitrarios y podrían mejorarse de muchas maneras distintas. Nuestro objetivo es simplemente observar cómo se comporta el modelo y ver qué grafos de conocimiento es capaz de construir."
      ]
    },
    {
      "cell_type": "markdown",
      "id": "10fa04a8-08fd-445b-82a6-ae853fe41b39",
      "metadata": {
        "id": "10fa04a8-08fd-445b-82a6-ae853fe41b39"
      },
      "source": [
        "### El Proceso\n",
        "\n",
        "Extraemos los recursos desde Github (Textos y Prompts)"
      ]
    },
    {
      "cell_type": "code",
      "source": [
        "!git clone https://github.com/matizzat/Knowledge.git"
      ],
      "metadata": {
        "id": "pvxmhM8Okejb",
        "outputId": "cb1a27bf-b6bc-435e-dbdb-52b12e7eff0a",
        "colab": {
          "base_uri": "https://localhost:8080/"
        }
      },
      "id": "pvxmhM8Okejb",
      "execution_count": 31,
      "outputs": [
        {
          "output_type": "stream",
          "name": "stdout",
          "text": [
            "fatal: destination path 'Knowledge' already exists and is not an empty directory.\n"
          ]
        }
      ]
    },
    {
      "cell_type": "markdown",
      "source": [
        "Instalamos la librería Pyvis para visualizar los grafos"
      ],
      "metadata": {
        "id": "vU4yNz7CkXVf"
      },
      "id": "vU4yNz7CkXVf"
    },
    {
      "cell_type": "code",
      "source": [
        "!pip install pyvis"
      ],
      "metadata": {
        "id": "-coIDsdSkwXL",
        "outputId": "d6437467-c386-449c-ecfe-9896cc7b377d",
        "colab": {
          "base_uri": "https://localhost:8080/"
        }
      },
      "id": "-coIDsdSkwXL",
      "execution_count": 32,
      "outputs": [
        {
          "output_type": "stream",
          "name": "stdout",
          "text": [
            "Requirement already satisfied: pyvis in /usr/local/lib/python3.11/dist-packages (0.3.2)\n",
            "Requirement already satisfied: ipython>=5.3.0 in /usr/local/lib/python3.11/dist-packages (from pyvis) (7.34.0)\n",
            "Requirement already satisfied: jinja2>=2.9.6 in /usr/local/lib/python3.11/dist-packages (from pyvis) (3.1.6)\n",
            "Requirement already satisfied: jsonpickle>=1.4.1 in /usr/local/lib/python3.11/dist-packages (from pyvis) (4.0.5)\n",
            "Requirement already satisfied: networkx>=1.11 in /usr/local/lib/python3.11/dist-packages (from pyvis) (3.4.2)\n",
            "Requirement already satisfied: setuptools>=18.5 in /usr/local/lib/python3.11/dist-packages (from ipython>=5.3.0->pyvis) (75.2.0)\n",
            "Requirement already satisfied: jedi>=0.16 in /usr/local/lib/python3.11/dist-packages (from ipython>=5.3.0->pyvis) (0.19.2)\n",
            "Requirement already satisfied: decorator in /usr/local/lib/python3.11/dist-packages (from ipython>=5.3.0->pyvis) (4.4.2)\n",
            "Requirement already satisfied: pickleshare in /usr/local/lib/python3.11/dist-packages (from ipython>=5.3.0->pyvis) (0.7.5)\n",
            "Requirement already satisfied: traitlets>=4.2 in /usr/local/lib/python3.11/dist-packages (from ipython>=5.3.0->pyvis) (5.7.1)\n",
            "Requirement already satisfied: prompt-toolkit!=3.0.0,!=3.0.1,<3.1.0,>=2.0.0 in /usr/local/lib/python3.11/dist-packages (from ipython>=5.3.0->pyvis) (3.0.51)\n",
            "Requirement already satisfied: pygments in /usr/local/lib/python3.11/dist-packages (from ipython>=5.3.0->pyvis) (2.19.1)\n",
            "Requirement already satisfied: backcall in /usr/local/lib/python3.11/dist-packages (from ipython>=5.3.0->pyvis) (0.2.0)\n",
            "Requirement already satisfied: matplotlib-inline in /usr/local/lib/python3.11/dist-packages (from ipython>=5.3.0->pyvis) (0.1.7)\n",
            "Requirement already satisfied: pexpect>4.3 in /usr/local/lib/python3.11/dist-packages (from ipython>=5.3.0->pyvis) (4.9.0)\n",
            "Requirement already satisfied: MarkupSafe>=2.0 in /usr/local/lib/python3.11/dist-packages (from jinja2>=2.9.6->pyvis) (3.0.2)\n",
            "Requirement already satisfied: parso<0.9.0,>=0.8.4 in /usr/local/lib/python3.11/dist-packages (from jedi>=0.16->ipython>=5.3.0->pyvis) (0.8.4)\n",
            "Requirement already satisfied: ptyprocess>=0.5 in /usr/local/lib/python3.11/dist-packages (from pexpect>4.3->ipython>=5.3.0->pyvis) (0.7.0)\n",
            "Requirement already satisfied: wcwidth in /usr/local/lib/python3.11/dist-packages (from prompt-toolkit!=3.0.0,!=3.0.1,<3.1.0,>=2.0.0->ipython>=5.3.0->pyvis) (0.2.13)\n"
          ]
        }
      ]
    },
    {
      "cell_type": "markdown",
      "source": [
        "Importamos las librerías necesarias."
      ],
      "metadata": {
        "id": "4oj3KdIRkNlu"
      },
      "id": "4oj3KdIRkNlu"
    },
    {
      "cell_type": "code",
      "source": [
        "from google import genai\n",
        "from google.genai import types\n",
        "from pyvis.network import Network\n",
        "from pyvis import network as net\n",
        "import networkx as nx\n",
        "import json\n",
        "from google.colab import userdata"
      ],
      "metadata": {
        "id": "egTfvtBtqE_K"
      },
      "id": "egTfvtBtqE_K",
      "execution_count": 33,
      "outputs": []
    },
    {
      "cell_type": "markdown",
      "source": [
        "Instanciamos un cliente para invocar al modelo Gemini. Para ejecutar esta celda deben obtener una clave del siguiente [enlace](https://ai.google.dev/gemini-api/docs/api-key). También tienen que configurar Google Colab para utilizar esta clave (Ver  [Tutorial](https://www.youtube.com/watch?v=snrvP_TZjvw))"
      ],
      "metadata": {
        "id": "LfS08a3_qoKc"
      },
      "id": "LfS08a3_qoKc"
    },
    {
      "cell_type": "code",
      "execution_count": 34,
      "id": "e0d7ed03-decc-4b84-834e-e65fa7cbe594",
      "metadata": {
        "id": "e0d7ed03-decc-4b84-834e-e65fa7cbe594"
      },
      "outputs": [],
      "source": [
        "GOOGLE_API_KEY = userdata.get('GOOGLE_API_KEY')\n",
        "client = genai.Client(api_key=GOOGLE_API_KEY)"
      ]
    },
    {
      "cell_type": "markdown",
      "source": [
        "Definimos funciones auxiliares y variables"
      ],
      "metadata": {
        "id": "KHuZNRY2qrHC"
      },
      "id": "KHuZNRY2qrHC"
    },
    {
      "cell_type": "code",
      "source": [
        "delimitador_texto_conocimiento = \"```\"\n",
        "\n",
        "def obtener_contenido_archivo(nombre_archivo: str) -> str:\n",
        "    with open(nombre_archivo, 'r') as archivo:\n",
        "        contenido = archivo.read()\n",
        "\n",
        "    return contenido\n",
        "\n",
        "def invocar_modelo_lenguaje(prompt: str) -> str:\n",
        "    respuesta = client.models.generate_content(\n",
        "        model = \"gemini-2.0-flash\",\n",
        "        contents = [prompt]\n",
        "    )\n",
        "    return respuesta.text"
      ],
      "metadata": {
        "id": "scKToPZaqPC9"
      },
      "id": "scKToPZaqPC9",
      "execution_count": 35,
      "outputs": []
    },
    {
      "cell_type": "markdown",
      "id": "d155c1f0-b02e-4eb7-995e-69a184afb552",
      "metadata": {
        "id": "d155c1f0-b02e-4eb7-995e-69a184afb552"
      },
      "source": [
        "Abrimos los archivos y extraemos su contenido."
      ]
    },
    {
      "cell_type": "code",
      "execution_count": 36,
      "id": "7327b1df-fe98-4b2c-bab0-91afe5f03247",
      "metadata": {
        "id": "7327b1df-fe98-4b2c-bab0-91afe5f03247"
      },
      "outputs": [],
      "source": [
        "texto_conocimiento = obtener_contenido_archivo(\"/content/Knowledge/Conocimiento/Conocimiento1.txt\")\n",
        "plantilla_extraer_pregunta   = obtener_contenido_archivo(\"/content/Knowledge/Instrucciones/ExtraerPregunta.txt\")\n",
        "plantilla_extraer_conceptos  = obtener_contenido_archivo(\"/content/Knowledge/Instrucciones/ExtraerConceptos.txt\")\n",
        "plantilla_extraer_ternas     = obtener_contenido_archivo(\"/content/Knowledge/Instrucciones/ExtraerTernasJson.txt\")"
      ]
    },
    {
      "cell_type": "markdown",
      "id": "1444bed8-b73d-4ccd-8a26-9ce5bf08a854",
      "metadata": {
        "id": "1444bed8-b73d-4ccd-8a26-9ce5bf08a854"
      },
      "source": [
        "Creamos un Prompt que instruye a Gemini a extraer una Pregunta de Enfoque a partir de `texto_conocimiento`"
      ]
    },
    {
      "cell_type": "code",
      "execution_count": 37,
      "id": "3339f477-3986-4b2d-804e-7d6f90d0b8e5",
      "metadata": {
        "id": "3339f477-3986-4b2d-804e-7d6f90d0b8e5",
        "outputId": "eec8baf5-2e90-42da-fa70-10b64a859d0d",
        "colab": {
          "base_uri": "https://localhost:8080/"
        }
      },
      "outputs": [
        {
          "output_type": "stream",
          "name": "stdout",
          "text": [
            "Write a focus question that the given Knowledge Text answers or gives insight into. \n",
            "The knowledge text is delimited by ```\n",
            "\n",
            "Knowledge text:\n",
            "```\n",
            "Theories are ideas that explain why some set of phenomena in the universe behave as they do. The sciences have been enormously successful in devising theories, and though even the best theories evolve and change over time, these still make possible a steady advance in knowledge about how the natural world works and in prediction and control over an ever-widening range of events or phenomena. The theory of education presented in this book will explain why educational experiences we judge as effective are effective, and why those experiences we judge as ineffective are ineffective. For example, the theory of learning I will present explains why learning by rote is ineffective for long- term retention and application of knowledge and why meaningful learning is effective and necessary for creative thinking. As with all theories, there are no simple, direct answers (consider, for example, the theory of evolution), and yet I hope to explain, on a theoretical basis, what is in the ballpark of being “better” and what appears to be outside of this ballpark. The theory of education presented will be a composite of a theory of learning, a theory of knowledge, and a theory of teaching and management, each of which complements and supports the others.\n",
            "```\n",
            "\n",
            "Question: \n"
          ]
        }
      ],
      "source": [
        "delimitador_texto_conocimiento = \"```\"\n",
        "\n",
        "prompt_extraer_pregunta = plantilla_extraer_pregunta.format(delimitador = delimitador_texto_conocimiento,\n",
        "                                                           conocimiento = texto_conocimiento)\n",
        "print(prompt_extraer_pregunta)"
      ]
    },
    {
      "cell_type": "markdown",
      "id": "43851619-9399-48a2-aa83-0a944bd2e7c5",
      "metadata": {
        "id": "43851619-9399-48a2-aa83-0a944bd2e7c5"
      },
      "source": [
        "Invocamos a Gemini con este Prompt y obtenemos una Pregunta de Enfoque."
      ]
    },
    {
      "cell_type": "code",
      "execution_count": 39,
      "id": "18489bcb-4d7f-49b4-a91f-efc116d730f0",
      "metadata": {
        "id": "18489bcb-4d7f-49b4-a91f-efc116d730f0",
        "outputId": "f436124d-b498-437e-92c2-c117475c8422",
        "colab": {
          "base_uri": "https://localhost:8080/"
        }
      },
      "outputs": [
        {
          "output_type": "stream",
          "name": "stdout",
          "text": [
            "How do theories, particularly in the context of education, help us understand and improve the effectiveness of different approaches to learning and teaching?\n",
            "\n"
          ]
        }
      ],
      "source": [
        "pregunta_enfoque = invocar_modelo_lenguaje(prompt_extraer_pregunta)\n",
        "print(pregunta_enfoque)"
      ]
    },
    {
      "cell_type": "markdown",
      "id": "70948cf9-0f63-4e43-b917-7688418f3314",
      "metadata": {
        "id": "70948cf9-0f63-4e43-b917-7688418f3314"
      },
      "source": [
        "Creamos un Prompt que instruye a Gemini a extraer una Lista de Conceptos a partir de ```pregunta_enfoque``` y ```texto_conocimiento```."
      ]
    },
    {
      "cell_type": "code",
      "execution_count": 40,
      "id": "ac4cabc3-b8e6-49d9-82d4-18678c71a5c2",
      "metadata": {
        "id": "ac4cabc3-b8e6-49d9-82d4-18678c71a5c2",
        "outputId": "09ac4eac-d879-4b74-8440-9e3268d2721a",
        "colab": {
          "base_uri": "https://localhost:8080/"
        }
      },
      "outputs": [
        {
          "output_type": "stream",
          "name": "stdout",
          "text": [
            "You are a knowledge map creator. \n",
            "\n",
            "You are given a Knowledge Text, delimited by ```, with the following structure:\n",
            "    1. Focus Question: A question that you have to answer listing relevant Concept Labels. \n",
            "    2. Knowledge: A text that answers the Focus Questions using relevant concepts. The Concept Labels you extract should be explicitly mentioned or derived from this text.\n",
            "\n",
            "Your task is to write a List of Concept Labels that we will later use to answer the Focus Question. \n",
            "Each Concept Label has at most three words. The Concept Labels should be explicitly mentioned or derived from the Knowledge Text. Include the Concepts mentioned in the Focus Question.\n",
            "\n",
            "The output should have the following format:\n",
            "* Concept Label\n",
            "* Concept Label\n",
            "...\n",
            "* Concept Label\n",
            "\n",
            "Knowledge text: \n",
            "```\n",
            "Focus Question: How do theories, particularly in the context of education, help us understand and improve the effectiveness of different approaches to learning and teaching?\n",
            "\n",
            "Knowledge:\n",
            "Theories are ideas that explain why some set of phenomena in the universe behave as they do. The sciences have been enormously successful in devising theories, and though even the best theories evolve and change over time, these still make possible a steady advance in knowledge about how the natural world works and in prediction and control over an ever-widening range of events or phenomena. The theory of education presented in this book will explain why educational experiences we judge as effective are effective, and why those experiences we judge as ineffective are ineffective. For example, the theory of learning I will present explains why learning by rote is ineffective for long- term retention and application of knowledge and why meaningful learning is effective and necessary for creative thinking. As with all theories, there are no simple, direct answers (consider, for example, the theory of evolution), and yet I hope to explain, on a theoretical basis, what is in the ballpark of being “better” and what appears to be outside of this ballpark. The theory of education presented will be a composite of a theory of learning, a theory of knowledge, and a theory of teaching and management, each of which complements and supports the others.\n",
            "```\n",
            "\n",
            "List of Concept Labels:\n"
          ]
        }
      ],
      "source": [
        "prompt_extraer_conceptos = plantilla_extraer_conceptos.format(delimitador = delimitador_texto_conocimiento,\n",
        "                                                                 pregunta = pregunta_enfoque,\n",
        "                                                             conocimiento = texto_conocimiento)\n",
        "print(prompt_extraer_conceptos)"
      ]
    },
    {
      "cell_type": "markdown",
      "id": "2ae3d96d-17b7-4a43-8ec4-0e7114428c12",
      "metadata": {
        "id": "2ae3d96d-17b7-4a43-8ec4-0e7114428c12"
      },
      "source": [
        "Invocamos a Gemini con este Prompt y obtenemos una Lista de Conceptos."
      ]
    },
    {
      "cell_type": "code",
      "execution_count": 41,
      "id": "38b59dc5-ef06-48dc-9d5b-3b1f10806ac9",
      "metadata": {
        "id": "38b59dc5-ef06-48dc-9d5b-3b1f10806ac9",
        "outputId": "66524f3c-f4c0-4404-9d9b-aea6c383796e",
        "colab": {
          "base_uri": "https://localhost:8080/"
        }
      },
      "outputs": [
        {
          "output_type": "stream",
          "name": "stdout",
          "text": [
            "* Theories\n",
            "* Education\n",
            "* Effectiveness\n",
            "* Approaches to learning\n",
            "* Teaching\n",
            "* Phenomena\n",
            "* Sciences\n",
            "* Theory of education\n",
            "* Effective educational experiences\n",
            "* Ineffective educational experiences\n",
            "* Theory of learning\n",
            "* Rote learning\n",
            "* Long-term retention\n",
            "* Application of knowledge\n",
            "* Meaningful learning\n",
            "* Creative thinking\n",
            "* Theory of evolution\n",
            "* Theory of knowledge\n",
            "* Theory of teaching\n",
            "* Management\n",
            "\n"
          ]
        }
      ],
      "source": [
        "lista_conceptos = invocar_modelo_lenguaje(prompt_extraer_conceptos)\n",
        "print(lista_conceptos)"
      ]
    },
    {
      "cell_type": "markdown",
      "id": "c89dd5cb-2bbf-42a6-ab03-9a7aa31bad24",
      "metadata": {
        "id": "c89dd5cb-2bbf-42a6-ab03-9a7aa31bad24"
      },
      "source": [
        "Creamos un Prompt que instruye a Gemini a extraer una Lista de Ternas de Conocimiento a partir de `pregunta_enfoque`, `lista_conceptos` y `texto_conocimiento`."
      ]
    },
    {
      "cell_type": "code",
      "execution_count": 42,
      "id": "6eac12de-8dbd-408c-a8d6-e917c8332da8",
      "metadata": {
        "id": "6eac12de-8dbd-408c-a8d6-e917c8332da8",
        "outputId": "f49d621f-76cd-4dde-ce92-2adb280f38f6",
        "colab": {
          "base_uri": "https://localhost:8080/"
        }
      },
      "outputs": [
        {
          "output_type": "stream",
          "name": "stdout",
          "text": [
            "You are a knowledge map creator. \n",
            "\n",
            "You are given a Knowledge Text with the following structure:\n",
            "    1. Focus Question: A question that you have to answer with Knowledge Triples.\n",
            "    2. List of Concepts: A list of concept labels that are relevant to the Focus Question and that you have to use to construct the Knowledge Triples. \n",
            "    3. Knowledge: A text that answers the Focus Question with the concepts from the List of Concepts. The Knowledge Triples should be explicetly derived from this text.  \n",
            "\n",
            "Your task is to return a list of Knowledge Triples that answer the Focus Question. A Knowledge Triple has three components: \n",
            "    1. Source Concept Label\n",
            "    2. Target Concept Label\n",
            "    3. Linking Phrase\n",
            "\n",
            "Each Concept Label must belong to the List of Concepts. \n",
            "Each Linking Phrase denotes a semantic relationship between concepts. Some examples are: \"Lives In\", \"Occurred In\", \"Is A\"\n",
            "Together, all the components of a Knowledge Triple form a Proposition. \n",
            "The Knowledge Triples must answer the Focus Question.\n",
            "The Knowledge Triples must be derived from the Knowledge Text. \n",
            "\n",
            "Write the output in Json format using the following schema: \n",
            "\n",
            "KnowledgeTriple = {'SourceConcept': str, 'TargetConcept': str, 'Relation': str}\n",
            "Return: list[KnowledgeTriple]\n",
            "\n",
            "Knowledge Text: \n",
            "\n",
            "```\n",
            "Focus Question:  How do theories, particularly in the context of education, help us understand and improve the effectiveness of different approaches to learning and teaching?\n",
            "\n",
            "List of Concepts:  \n",
            "* Theories\n",
            "* Education\n",
            "* Effectiveness\n",
            "* Approaches to learning\n",
            "* Teaching\n",
            "* Phenomena\n",
            "* Sciences\n",
            "* Theory of education\n",
            "* Effective educational experiences\n",
            "* Ineffective educational experiences\n",
            "* Theory of learning\n",
            "* Rote learning\n",
            "* Long-term retention\n",
            "* Application of knowledge\n",
            "* Meaningful learning\n",
            "* Creative thinking\n",
            "* Theory of evolution\n",
            "* Theory of knowledge\n",
            "* Theory of teaching\n",
            "* Management\n",
            "\n",
            "Knowledge: \n",
            "Theories are ideas that explain why some set of phenomena in the universe behave as they do. The sciences have been enormously successful in devising theories, and though even the best theories evolve and change over time, these still make possible a steady advance in knowledge about how the natural world works and in prediction and control over an ever-widening range of events or phenomena. The theory of education presented in this book will explain why educational experiences we judge as effective are effective, and why those experiences we judge as ineffective are ineffective. For example, the theory of learning I will present explains why learning by rote is ineffective for long- term retention and application of knowledge and why meaningful learning is effective and necessary for creative thinking. As with all theories, there are no simple, direct answers (consider, for example, the theory of evolution), and yet I hope to explain, on a theoretical basis, what is in the ballpark of being “better” and what appears to be outside of this ballpark. The theory of education presented will be a composite of a theory of learning, a theory of knowledge, and a theory of teaching and management, each of which complements and supports the others.\n",
            "```\n",
            "\n",
            "Knowledge Triples: \n"
          ]
        }
      ],
      "source": [
        "prompt_extraer_ternas = plantilla_extraer_ternas.format(delimitador = delimitador_texto_conocimiento,\n",
        "                                                           pregunta = pregunta_enfoque,\n",
        "                                                          conceptos = lista_conceptos,\n",
        "                                                       conocimiento = texto_conocimiento)\n",
        "print(prompt_extraer_ternas)"
      ]
    },
    {
      "cell_type": "markdown",
      "id": "c5b86a30-c37f-4fa6-8538-4b5f7499964d",
      "metadata": {
        "id": "c5b86a30-c37f-4fa6-8538-4b5f7499964d"
      },
      "source": [
        "Invocamos a Gemini con este Prompt y obtenemos una Lista de Ternas de Conocimiento."
      ]
    },
    {
      "cell_type": "code",
      "execution_count": 46,
      "id": "e6aa1f63-4bb5-42fd-a29b-6e32e6fc22c2",
      "metadata": {
        "id": "e6aa1f63-4bb5-42fd-a29b-6e32e6fc22c2",
        "outputId": "e98ceedb-5cee-4713-efc8-8e839012b420",
        "colab": {
          "base_uri": "https://localhost:8080/",
          "height": 304
        }
      },
      "outputs": [
        {
          "output_type": "error",
          "ename": "ServerError",
          "evalue": "503 UNAVAILABLE. {'error': {'code': 503, 'message': 'The model is overloaded. Please try again later.', 'status': 'UNAVAILABLE'}}",
          "traceback": [
            "\u001b[0;31m---------------------------------------------------------------------------\u001b[0m",
            "\u001b[0;31mServerError\u001b[0m                               Traceback (most recent call last)",
            "\u001b[0;32m<ipython-input-46-d03bfa1d35e5>\u001b[0m in \u001b[0;36m<cell line: 0>\u001b[0;34m()\u001b[0m\n\u001b[0;32m----> 1\u001b[0;31m \u001b[0mlista_ternas_str\u001b[0m \u001b[0;34m=\u001b[0m \u001b[0minvocar_modelo_lenguaje\u001b[0m\u001b[0;34m(\u001b[0m\u001b[0mprompt_extraer_ternas\u001b[0m\u001b[0;34m)\u001b[0m\u001b[0;34m\u001b[0m\u001b[0;34m\u001b[0m\u001b[0m\n\u001b[0m\u001b[1;32m      2\u001b[0m \u001b[0mprint\u001b[0m\u001b[0;34m(\u001b[0m\u001b[0mlista_ternas_str\u001b[0m\u001b[0;34m)\u001b[0m\u001b[0;34m\u001b[0m\u001b[0;34m\u001b[0m\u001b[0m\n",
            "\u001b[0;32m<ipython-input-35-485caff26e48>\u001b[0m in \u001b[0;36minvocar_modelo_lenguaje\u001b[0;34m(prompt)\u001b[0m\n\u001b[1;32m      8\u001b[0m \u001b[0;34m\u001b[0m\u001b[0m\n\u001b[1;32m      9\u001b[0m \u001b[0;32mdef\u001b[0m \u001b[0minvocar_modelo_lenguaje\u001b[0m\u001b[0;34m(\u001b[0m\u001b[0mprompt\u001b[0m\u001b[0;34m:\u001b[0m \u001b[0mstr\u001b[0m\u001b[0;34m)\u001b[0m \u001b[0;34m->\u001b[0m \u001b[0mstr\u001b[0m\u001b[0;34m:\u001b[0m\u001b[0;34m\u001b[0m\u001b[0;34m\u001b[0m\u001b[0m\n\u001b[0;32m---> 10\u001b[0;31m     respuesta = client.models.generate_content(\n\u001b[0m\u001b[1;32m     11\u001b[0m         \u001b[0mmodel\u001b[0m \u001b[0;34m=\u001b[0m \u001b[0;34m\"gemini-2.0-flash\"\u001b[0m\u001b[0;34m,\u001b[0m\u001b[0;34m\u001b[0m\u001b[0;34m\u001b[0m\u001b[0m\n\u001b[1;32m     12\u001b[0m         \u001b[0mcontents\u001b[0m \u001b[0;34m=\u001b[0m \u001b[0;34m[\u001b[0m\u001b[0mprompt\u001b[0m\u001b[0;34m]\u001b[0m\u001b[0;34m\u001b[0m\u001b[0;34m\u001b[0m\u001b[0m\n",
            "\u001b[0;32m/usr/local/lib/python3.11/dist-packages/google/genai/models.py\u001b[0m in \u001b[0;36mgenerate_content\u001b[0;34m(self, model, contents, config)\u001b[0m\n\u001b[1;32m   5017\u001b[0m     \u001b[0;32mwhile\u001b[0m \u001b[0mremaining_remote_calls_afc\u001b[0m \u001b[0;34m>\u001b[0m \u001b[0;36m0\u001b[0m\u001b[0;34m:\u001b[0m\u001b[0;34m\u001b[0m\u001b[0;34m\u001b[0m\u001b[0m\n\u001b[1;32m   5018\u001b[0m       \u001b[0mi\u001b[0m \u001b[0;34m+=\u001b[0m \u001b[0;36m1\u001b[0m\u001b[0;34m\u001b[0m\u001b[0;34m\u001b[0m\u001b[0m\n\u001b[0;32m-> 5019\u001b[0;31m       response = self._generate_content(\n\u001b[0m\u001b[1;32m   5020\u001b[0m           \u001b[0mmodel\u001b[0m\u001b[0;34m=\u001b[0m\u001b[0mmodel\u001b[0m\u001b[0;34m,\u001b[0m \u001b[0mcontents\u001b[0m\u001b[0;34m=\u001b[0m\u001b[0mcontents\u001b[0m\u001b[0;34m,\u001b[0m \u001b[0mconfig\u001b[0m\u001b[0;34m=\u001b[0m\u001b[0mconfig\u001b[0m\u001b[0;34m\u001b[0m\u001b[0;34m\u001b[0m\u001b[0m\n\u001b[1;32m   5021\u001b[0m       )\n",
            "\u001b[0;32m/usr/local/lib/python3.11/dist-packages/google/genai/models.py\u001b[0m in \u001b[0;36m_generate_content\u001b[0;34m(self, model, contents, config)\u001b[0m\n\u001b[1;32m   3993\u001b[0m     \u001b[0mrequest_dict\u001b[0m \u001b[0;34m=\u001b[0m \u001b[0m_common\u001b[0m\u001b[0;34m.\u001b[0m\u001b[0mencode_unserializable_types\u001b[0m\u001b[0;34m(\u001b[0m\u001b[0mrequest_dict\u001b[0m\u001b[0;34m)\u001b[0m\u001b[0;34m\u001b[0m\u001b[0;34m\u001b[0m\u001b[0m\n\u001b[1;32m   3994\u001b[0m \u001b[0;34m\u001b[0m\u001b[0m\n\u001b[0;32m-> 3995\u001b[0;31m     response_dict = self._api_client.request(\n\u001b[0m\u001b[1;32m   3996\u001b[0m         \u001b[0;34m'post'\u001b[0m\u001b[0;34m,\u001b[0m \u001b[0mpath\u001b[0m\u001b[0;34m,\u001b[0m \u001b[0mrequest_dict\u001b[0m\u001b[0;34m,\u001b[0m \u001b[0mhttp_options\u001b[0m\u001b[0;34m\u001b[0m\u001b[0;34m\u001b[0m\u001b[0m\n\u001b[1;32m   3997\u001b[0m     )\n",
            "\u001b[0;32m/usr/local/lib/python3.11/dist-packages/google/genai/_api_client.py\u001b[0m in \u001b[0;36mrequest\u001b[0;34m(self, http_method, path, request_dict, http_options)\u001b[0m\n\u001b[1;32m    724\u001b[0m         \u001b[0mhttp_method\u001b[0m\u001b[0;34m,\u001b[0m \u001b[0mpath\u001b[0m\u001b[0;34m,\u001b[0m \u001b[0mrequest_dict\u001b[0m\u001b[0;34m,\u001b[0m \u001b[0mhttp_options\u001b[0m\u001b[0;34m\u001b[0m\u001b[0;34m\u001b[0m\u001b[0m\n\u001b[1;32m    725\u001b[0m     )\n\u001b[0;32m--> 726\u001b[0;31m     \u001b[0mresponse\u001b[0m \u001b[0;34m=\u001b[0m \u001b[0mself\u001b[0m\u001b[0;34m.\u001b[0m\u001b[0m_request\u001b[0m\u001b[0;34m(\u001b[0m\u001b[0mhttp_request\u001b[0m\u001b[0;34m,\u001b[0m \u001b[0mstream\u001b[0m\u001b[0;34m=\u001b[0m\u001b[0;32mFalse\u001b[0m\u001b[0;34m)\u001b[0m\u001b[0;34m\u001b[0m\u001b[0;34m\u001b[0m\u001b[0m\n\u001b[0m\u001b[1;32m    727\u001b[0m     \u001b[0mjson_response\u001b[0m \u001b[0;34m=\u001b[0m \u001b[0mresponse\u001b[0m\u001b[0;34m.\u001b[0m\u001b[0mjson\u001b[0m\u001b[0;34m\u001b[0m\u001b[0;34m\u001b[0m\u001b[0m\n\u001b[1;32m    728\u001b[0m     \u001b[0;32mif\u001b[0m \u001b[0;32mnot\u001b[0m \u001b[0mjson_response\u001b[0m\u001b[0;34m:\u001b[0m\u001b[0;34m\u001b[0m\u001b[0;34m\u001b[0m\u001b[0m\n",
            "\u001b[0;32m/usr/local/lib/python3.11/dist-packages/google/genai/_api_client.py\u001b[0m in \u001b[0;36m_request\u001b[0;34m(self, http_request, stream)\u001b[0m\n\u001b[1;32m    653\u001b[0m           \u001b[0mtimeout\u001b[0m\u001b[0;34m=\u001b[0m\u001b[0mhttp_request\u001b[0m\u001b[0;34m.\u001b[0m\u001b[0mtimeout\u001b[0m\u001b[0;34m,\u001b[0m\u001b[0;34m\u001b[0m\u001b[0;34m\u001b[0m\u001b[0m\n\u001b[1;32m    654\u001b[0m       )\n\u001b[0;32m--> 655\u001b[0;31m       \u001b[0merrors\u001b[0m\u001b[0;34m.\u001b[0m\u001b[0mAPIError\u001b[0m\u001b[0;34m.\u001b[0m\u001b[0mraise_for_response\u001b[0m\u001b[0;34m(\u001b[0m\u001b[0mresponse\u001b[0m\u001b[0;34m)\u001b[0m\u001b[0;34m\u001b[0m\u001b[0;34m\u001b[0m\u001b[0m\n\u001b[0m\u001b[1;32m    656\u001b[0m       return HttpResponse(\n\u001b[1;32m    657\u001b[0m           \u001b[0mresponse\u001b[0m\u001b[0;34m.\u001b[0m\u001b[0mheaders\u001b[0m\u001b[0;34m,\u001b[0m \u001b[0mresponse\u001b[0m \u001b[0;32mif\u001b[0m \u001b[0mstream\u001b[0m \u001b[0;32melse\u001b[0m \u001b[0;34m[\u001b[0m\u001b[0mresponse\u001b[0m\u001b[0;34m.\u001b[0m\u001b[0mtext\u001b[0m\u001b[0;34m]\u001b[0m\u001b[0;34m\u001b[0m\u001b[0;34m\u001b[0m\u001b[0m\n",
            "\u001b[0;32m/usr/local/lib/python3.11/dist-packages/google/genai/errors.py\u001b[0m in \u001b[0;36mraise_for_response\u001b[0;34m(cls, response)\u001b[0m\n\u001b[1;32m    101\u001b[0m       \u001b[0;32mraise\u001b[0m \u001b[0mClientError\u001b[0m\u001b[0;34m(\u001b[0m\u001b[0mstatus_code\u001b[0m\u001b[0;34m,\u001b[0m \u001b[0mresponse_json\u001b[0m\u001b[0;34m,\u001b[0m \u001b[0mresponse\u001b[0m\u001b[0;34m)\u001b[0m\u001b[0;34m\u001b[0m\u001b[0;34m\u001b[0m\u001b[0m\n\u001b[1;32m    102\u001b[0m     \u001b[0;32melif\u001b[0m \u001b[0;36m500\u001b[0m \u001b[0;34m<=\u001b[0m \u001b[0mstatus_code\u001b[0m \u001b[0;34m<\u001b[0m \u001b[0;36m600\u001b[0m\u001b[0;34m:\u001b[0m\u001b[0;34m\u001b[0m\u001b[0;34m\u001b[0m\u001b[0m\n\u001b[0;32m--> 103\u001b[0;31m       \u001b[0;32mraise\u001b[0m \u001b[0mServerError\u001b[0m\u001b[0;34m(\u001b[0m\u001b[0mstatus_code\u001b[0m\u001b[0;34m,\u001b[0m \u001b[0mresponse_json\u001b[0m\u001b[0;34m,\u001b[0m \u001b[0mresponse\u001b[0m\u001b[0;34m)\u001b[0m\u001b[0;34m\u001b[0m\u001b[0;34m\u001b[0m\u001b[0m\n\u001b[0m\u001b[1;32m    104\u001b[0m     \u001b[0;32melse\u001b[0m\u001b[0;34m:\u001b[0m\u001b[0;34m\u001b[0m\u001b[0;34m\u001b[0m\u001b[0m\n\u001b[1;32m    105\u001b[0m       \u001b[0;32mraise\u001b[0m \u001b[0mcls\u001b[0m\u001b[0;34m(\u001b[0m\u001b[0mstatus_code\u001b[0m\u001b[0;34m,\u001b[0m \u001b[0mresponse_json\u001b[0m\u001b[0;34m,\u001b[0m \u001b[0mresponse\u001b[0m\u001b[0;34m)\u001b[0m\u001b[0;34m\u001b[0m\u001b[0;34m\u001b[0m\u001b[0m\n",
            "\u001b[0;31mServerError\u001b[0m: 503 UNAVAILABLE. {'error': {'code': 503, 'message': 'The model is overloaded. Please try again later.', 'status': 'UNAVAILABLE'}}"
          ]
        }
      ],
      "source": [
        "lista_ternas_str = invocar_modelo_lenguaje(prompt_extraer_ternas)\n",
        "print(lista_ternas_str)"
      ]
    },
    {
      "cell_type": "markdown",
      "id": "1b84dc7c-5a2d-49c4-9b69-8153247ac1c9",
      "metadata": {
        "id": "1b84dc7c-5a2d-49c4-9b69-8153247ac1c9"
      },
      "source": [
        "A continuación eliminamos los substrings `\"```json\"` y `\"```¨` de la respuesta anterior. Parece que Gemini siempre escribe esas subcadenas cuando le pedimos que la salida sea en formato Json."
      ]
    },
    {
      "cell_type": "code",
      "execution_count": null,
      "id": "be6932b3-242d-48be-8d92-90c8716992ef",
      "metadata": {
        "id": "be6932b3-242d-48be-8d92-90c8716992ef",
        "outputId": "445f97aa-2ca9-4a90-e015-cdce6b315aa4",
        "colab": {
          "base_uri": "https://localhost:8080/",
          "height": 159
        }
      },
      "outputs": [
        {
          "output_type": "error",
          "ename": "NameError",
          "evalue": "name 'lista_ternas_str' is not defined",
          "traceback": [
            "\u001b[0;31m---------------------------------------------------------------------------\u001b[0m",
            "\u001b[0;31mNameError\u001b[0m                                 Traceback (most recent call last)",
            "\u001b[0;32m<ipython-input-14-988376ea20a4>\u001b[0m in \u001b[0;36m<cell line: 0>\u001b[0;34m()\u001b[0m\n\u001b[0;32m----> 1\u001b[0;31m \u001b[0mtam_str\u001b[0m \u001b[0;34m=\u001b[0m \u001b[0mlen\u001b[0m\u001b[0;34m(\u001b[0m\u001b[0mlista_ternas_str\u001b[0m\u001b[0;34m)\u001b[0m\u001b[0;34m\u001b[0m\u001b[0;34m\u001b[0m\u001b[0m\n\u001b[0m\u001b[1;32m      2\u001b[0m \u001b[0mlista_ternas_str_procesada\u001b[0m \u001b[0;34m=\u001b[0m \u001b[0mlista_ternas_str\u001b[0m\u001b[0;34m[\u001b[0m\u001b[0;36m8\u001b[0m\u001b[0;34m:\u001b[0m\u001b[0mtam_str\u001b[0m\u001b[0;34m-\u001b[0m\u001b[0;36m4\u001b[0m\u001b[0;34m]\u001b[0m\u001b[0;34m\u001b[0m\u001b[0;34m\u001b[0m\u001b[0m\n",
            "\u001b[0;31mNameError\u001b[0m: name 'lista_ternas_str' is not defined"
          ]
        }
      ],
      "source": [
        "tam_str = len(lista_ternas_str)\n",
        "lista_ternas_str_procesada = lista_ternas_str[8:tam_str-4]"
      ]
    },
    {
      "cell_type": "markdown",
      "id": "920096c7-8077-40b5-8daa-29c8dc7be768",
      "metadata": {
        "id": "920096c7-8077-40b5-8daa-29c8dc7be768"
      },
      "source": [
        "Ahora transformamos `lista_ternas_procesada` en una lista de Python."
      ]
    },
    {
      "cell_type": "code",
      "execution_count": null,
      "id": "22dee2cf-3559-42d1-8c66-7bd391fa036a",
      "metadata": {
        "id": "22dee2cf-3559-42d1-8c66-7bd391fa036a"
      },
      "outputs": [],
      "source": [
        "lista_ternas = json.loads(lista_ternas_str_procesada)"
      ]
    },
    {
      "cell_type": "markdown",
      "id": "64ecd2d1-89ab-42d2-92c9-edfa31fd59e1",
      "metadata": {
        "id": "64ecd2d1-89ab-42d2-92c9-edfa31fd59e1"
      },
      "source": [
        "A continuación vamos a construir un grafo `G` de NetworkX con las ternas de conocimiento que nos devolvió el modelo."
      ]
    },
    {
      "cell_type": "code",
      "execution_count": null,
      "id": "a474273b-9330-43bb-b31d-688be5c564a7",
      "metadata": {
        "id": "a474273b-9330-43bb-b31d-688be5c564a7"
      },
      "outputs": [],
      "source": [
        "G = nx.Graph()\n",
        "\n",
        "for terna in lista_ternas:\n",
        "    fuente, destino, relacion = terna[\"SourceConcept\"], terna[\"TargetConcept\"], terna[\"Relation\"]\n",
        "    G.add_node(fuente)\n",
        "    G.add_node(destino)\n",
        "    G.add_edge(fuente, destino, title=relacion, label=relacion)"
      ]
    },
    {
      "cell_type": "markdown",
      "id": "e4130584-4015-4d9d-8ada-513f2d0fca66",
      "metadata": {
        "id": "e4130584-4015-4d9d-8ada-513f2d0fca66"
      },
      "source": [
        "Ejecuten la próxima celda de código y descarguen el archivo generado. Luego abran el archivo HTML en una nueva puestaña de su navegador. Esto les permitirá ver el Grafo de Conocimiento generado por el modelo 🙂"
      ]
    },
    {
      "cell_type": "code",
      "execution_count": null,
      "id": "2236ad6a-4267-4101-90c7-950efba48884",
      "metadata": {
        "id": "2236ad6a-4267-4101-90c7-950efba48884",
        "outputId": "cd1f8a2c-5add-4f7a-e677-053361f4937a",
        "colab": {
          "base_uri": "https://localhost:8080/",
          "height": 193
        }
      },
      "outputs": [
        {
          "output_type": "stream",
          "name": "stdout",
          "text": [
            "Warning: When  cdn_resources is 'local' jupyter notebook has issues displaying graphics on chrome/safari. Use cdn_resources='in_line' or cdn_resources='remote' if you have issues viewing graphics in a notebook.\n"
          ]
        },
        {
          "output_type": "error",
          "ename": "NameError",
          "evalue": "name 'G' is not defined",
          "traceback": [
            "\u001b[0;31m---------------------------------------------------------------------------\u001b[0m",
            "\u001b[0;31mNameError\u001b[0m                                 Traceback (most recent call last)",
            "\u001b[0;32m<ipython-input-16-c44cac95319a>\u001b[0m in \u001b[0;36m<cell line: 0>\u001b[0;34m()\u001b[0m\n\u001b[1;32m      1\u001b[0m \u001b[0mvis\u001b[0m \u001b[0;34m=\u001b[0m \u001b[0mnet\u001b[0m\u001b[0;34m.\u001b[0m\u001b[0mNetwork\u001b[0m\u001b[0;34m(\u001b[0m\u001b[0mnotebook\u001b[0m \u001b[0;34m=\u001b[0m \u001b[0;32mTrue\u001b[0m\u001b[0;34m,\u001b[0m \u001b[0mdirected\u001b[0m \u001b[0;34m=\u001b[0m \u001b[0;32mTrue\u001b[0m\u001b[0;34m)\u001b[0m\u001b[0;34m\u001b[0m\u001b[0;34m\u001b[0m\u001b[0m\n\u001b[0;32m----> 2\u001b[0;31m \u001b[0mvis\u001b[0m\u001b[0;34m.\u001b[0m\u001b[0mfrom_nx\u001b[0m\u001b[0;34m(\u001b[0m\u001b[0mG\u001b[0m\u001b[0;34m)\u001b[0m\u001b[0;34m\u001b[0m\u001b[0;34m\u001b[0m\u001b[0m\n\u001b[0m\u001b[1;32m      3\u001b[0m \u001b[0mvis\u001b[0m\u001b[0;34m.\u001b[0m\u001b[0msage_graph\u001b[0m\u001b[0;34m(\u001b[0m\u001b[0;34m\"/content/Knowledge/Grafo.html\"\u001b[0m\u001b[0;34m)\u001b[0m\u001b[0;34m\u001b[0m\u001b[0;34m\u001b[0m\u001b[0m\n",
            "\u001b[0;31mNameError\u001b[0m: name 'G' is not defined"
          ]
        }
      ],
      "source": [
        "vis = net.Network(notebook = True, directed = True)\n",
        "vis.from_nx(G)\n",
        "vis.save_graph(\"/content/Knowledge/Grafo.html\")"
      ]
    }
  ],
  "metadata": {
    "kernelspec": {
      "display_name": "Python 3 (ipykernel)",
      "language": "python",
      "name": "python3"
    },
    "language_info": {
      "codemirror_mode": {
        "name": "ipython",
        "version": 3
      },
      "file_extension": ".py",
      "mimetype": "text/x-python",
      "name": "python",
      "nbconvert_exporter": "python",
      "pygments_lexer": "ipython3",
      "version": "3.12.9"
    },
    "colab": {
      "provenance": []
    }
  },
  "nbformat": 4,
  "nbformat_minor": 5
}